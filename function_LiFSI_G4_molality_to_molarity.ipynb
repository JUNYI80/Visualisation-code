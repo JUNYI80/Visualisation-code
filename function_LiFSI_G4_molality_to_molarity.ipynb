{
 "cells": [
  {
   "cell_type": "code",
   "execution_count": null,
   "metadata": {},
   "outputs": [],
   "source": [
    "# this is a unit convection function\n",
    "# input m\n",
    "# output M\n",
    "##  result unit:mol/L\n",
    "\n",
    "\n",
    "def mtoM(n):\n",
    "    b=1000/n+187-123.48\n",
    "    c=-1014.64\n",
    "    a=7.45\n",
    "    d=b*b-4*a*c\n",
    "    if a==0 and b==0:print(\"The equation has no solution\")\n",
    "\n",
    "    elif a==0 and b!=0:print(\"The equation has a solution,x=\",-c/b)\n",
    "\n",
    "    elif a!=0:\n",
    "        d=b*b-4*a*c\n",
    "\n",
    "        if d==0:print(\"The equation has a solution,x1=x2=\",-b/(2*a))\n",
    "\n",
    "        elif d<0:print(\"Equation has no real solution\")\n",
    "\n",
    "        else:\n",
    "\n",
    "            e=b*b-4*a*c\n",
    "\n",
    "            x1=(-b+e**0.5)/(2*a)\n",
    "\n",
    "            x2=(-b-e**0.5)/(2*a)\n",
    "\n",
    "            if x1>x2:\n",
    "                xc=x1\n",
    "\n",
    "                print(\"The equation has two real solutions,x1=%.1f,x2=%.1f\"%(x1,x2))\n",
    "\n",
    "            else:\n",
    "                xc=x2\n",
    "                print(\"The equation has two real solutions,x1=%.1f,x2=%.1f\"%(x2,x1))\n",
    "    return xc\n",
    "\n"
   ]
  }
 ],
 "metadata": {
  "kernelspec": {
   "display_name": "Python 3",
   "language": "python",
   "name": "python3"
  },
  "language_info": {
   "name": "python",
   "version": "3.10.10"
  },
  "orig_nbformat": 4,
  "vscode": {
   "interpreter": {
    "hash": "486e0d5a79acdbfffd563ee7a67a93a5017bd2a4f66495483a69f0245c8a4a6c"
   }
  }
 },
 "nbformat": 4,
 "nbformat_minor": 2
}
