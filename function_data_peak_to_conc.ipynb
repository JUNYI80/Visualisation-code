{
 "cells": [
  {
   "cell_type": "code",
   "execution_count": 1,
   "metadata": {},
   "outputs": [],
   "source": [
    "from scipy       import integrate\n",
    "import numpy             as np"
   ]
  },
  {
   "cell_type": "code",
   "execution_count": 1,
   "metadata": {},
   "outputs": [],
   "source": [
    "class Peak():\n",
    "\tdef __init__(self, path_to_input, dst_dir):\n",
    "\t\tself.filename = path_to_input\n",
    "\t\tself.dst_dir = dst_dir\n",
    "\t\tself.wavenumber = []\n",
    "\t\tself.intensity = []\n",
    "\t\tself.normalized = []\n",
    "\t\tself.truncated = []\n",
    "\t\tself.wavenumber2 = []\n",
    "\t\tself.concentration_m = []\n",
    "\t\treturn\n",
    "\tdef run(self):\n",
    "\t\tself.parse()\n",
    "\t\tself.normalize()\n",
    "\t\tself.truncate()\n",
    "\t\tself.write_results()\n",
    "\t\tself.area()\n",
    "\t\treturn\n",
    "\tdef parse(self):\n",
    "\t\twith open(self.filename, encoding=\"utf8\", errors=\"ignore\") as f:\n",
    "\t\t\tfor line in f:\n",
    "\t\t\t\tif line.startswith('#'):\n",
    "\t\t\t\t\tcontinue\n",
    "\t\t\t\tparts = line.split()\n",
    "\t\t\t\tw = float(parts[0])\n",
    "\t\t\t\ti = float(parts[1])\n",
    "\t\t\t\tself.wavenumber.append(w)\n",
    "\t\t\t\tself.intensity.append(i)\n",
    "\t\treturn \n",
    "\tdef normalize(self):\n",
    "\t\tindex = 0\n",
    "\t\tfor ind, val in enumerate(self.wavenumber):\n",
    "\t\t\tif val > 1400:\n",
    "\t\t\t\tindex = ind\n",
    "\t\tm = max(self.intensity[:index])\n",
    "\t\tfor i in self.intensity:\n",
    "\t\t\tself.normalized.append(i/m)\n",
    "\t\treturn\n",
    "\tdef truncate(self):\n",
    "\t\tindex1 = 0\n",
    "\t\tindex2 = 0\n",
    "\t\tfor ind1, val1 in enumerate(self.wavenumber):\n",
    "\t\t\tif val1 < 762 and val1 > 758:\n",
    "\t\t\t\tindex1 = ind1\n",
    "\t\t\tif val1 < 682 and val1 > 678:\n",
    "\t\t\t\tindex2 = ind1\n",
    "\t\t\tself.truncated = self.normalized[index1:index2]\n",
    "\t\t\tself.wavenumber2 = self.wavenumber[index1:index2]\n",
    "\t\treturn\n",
    "\tdef area(self):\n",
    "\t\t\tarea_peak = integrate.simps(self.truncated, self.wavenumber2)\n",
    "\t\t\ta = -20.46985\n",
    "\t\t\tb = -0.6228\n",
    "\t\t\tself.concentration_m = (area_peak-b)/a\n",
    "\t\t\treturn\n",
    "\tdef plotting(self):\n",
    "\t\tplt.plot(self.wavenumber2, self.truncated)\n",
    "\t\tplt.fill_between(self.wavenumber2, self.truncated, color = \"grey\",alpha = 0.3, hatch = '|')\n",
    "\t\tplt.show()\n",
    "\t\treturn \n",
    "\tdef write_results(self):#存好700附近的标准化数据\n",
    "\t\twith open(self.dst_dir+'/'+self.filename[self.filename.rfind('/'):-4]+\"_700PEAK.txt\", 'w', encoding=\"utf8\", errors=\"ignore\") as f:\n",
    "\t\t\tfor i in range(len(self.truncated)):\n",
    "\t\t\t\tf.write(str(self.wavenumber2[i]))\n",
    "\t\t\t\tf.write('\\t')\n",
    "\t\t\t\tf.write(str(self.truncated[i]))\n",
    "\t\t\t\tf.write('\\n')\n",
    "\t\treturn"
   ]
  },
  {
   "cell_type": "code",
   "execution_count": null,
   "metadata": {},
   "outputs": [],
   "source": []
  }
 ],
 "metadata": {
  "kernelspec": {
   "display_name": "base",
   "language": "python",
   "name": "python3"
  },
  "language_info": {
   "codemirror_mode": {
    "name": "ipython",
    "version": 3
   },
   "file_extension": ".py",
   "mimetype": "text/x-python",
   "name": "python",
   "nbconvert_exporter": "python",
   "pygments_lexer": "ipython3",
   "version": "3.9.13"
  },
  "orig_nbformat": 4,
  "vscode": {
   "interpreter": {
    "hash": "7ff96eb9a7975995df6f2a519dfdaf1ac4286d951c67f8930a91d7be2fe6eb56"
   }
  }
 },
 "nbformat": 4,
 "nbformat_minor": 2
}
