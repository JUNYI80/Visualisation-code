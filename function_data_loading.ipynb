{
 "cells": [
  {
   "cell_type": "code",
   "execution_count": null,
   "metadata": {},
   "outputs": [],
   "source": [
    "# this function can load all your raman signal and convert them into concentration value\n",
    "# return a dictionary\n",
    "# usually, it need to be used with \"function_peak_to_conc\"\n",
    "# if you have some problem， contact me via junyi.zhao@stx.ox.ac.uk\n",
    "\n",
    "# concloading(Input_path_Raman_data,Output_path_Raman_data,the_total_raman_file_number,function_Peak)\n",
    "def concloading(p1,p2,x,fun):\n",
    "    import numpy             as np\n",
    "    import pandas            as pd\n",
    "    e  = {}\n",
    "    for t in range(x):\n",
    "        p4 = p1+str(t)+'_BL.txt'\n",
    "        d  = pd.DataFrame(np.loadtxt(p4), columns = ['Z', 'Wave','Intensity'])\n",
    "        z  = d['Z'].drop_duplicates().tolist()\n",
    "        c=[]\n",
    "        for i in range(len(z)):\n",
    "            d1 = d.loc[d['Z']==z[i]]\n",
    "            p5 =r\"D:\\phd data analysis\\raman_linescan.txt\" ##\n",
    "            with open(p5, 'w', encoding=\"utf8\", errors=\"ignore\") as f:\n",
    "                for j in range(len(d1['Wave'])):\n",
    "                    f.write(str(d1['Wave'].iloc[j]))\n",
    "                    f.write('\\t')\n",
    "                    f.write(str(d1['Intensity'].iloc[j]))\n",
    "                    f.write('\\n')\n",
    "            n = fun(p5, p2)\n",
    "            try:\n",
    "                n.run()\n",
    "                c.append(n.concentration_m)\n",
    "            except ZeroDivisionError:\n",
    "                c.append(np.nan)       \n",
    "        print('【Processing '+str(t)+'---> evaluated'+'】')\n",
    "        e[t] = (z,c)\n",
    "    return e,z"
   ]
  }
 ],
 "metadata": {
  "kernelspec": {
   "display_name": "base",
   "language": "python",
   "name": "python3"
  },
  "language_info": {
   "name": "python",
   "version": "3.9.13"
  },
  "orig_nbformat": 4,
  "vscode": {
   "interpreter": {
    "hash": "7ff96eb9a7975995df6f2a519dfdaf1ac4286d951c67f8930a91d7be2fe6eb56"
   }
  }
 },
 "nbformat": 4,
 "nbformat_minor": 2
}
