{
 "cells": [
  {
   "cell_type": "code",
   "execution_count": null,
   "metadata": {},
   "outputs": [],
   "source": [
    "# this function is going to remove outliers in the concentration gradient of LiFSI G4 electrolyte\n",
    "# mark outliers as \"NaH\" value in the arrays\n",
    "# so the new plot won't show the outliers anymore\n",
    "# if you have some problem， contact me via junyi.zhao@stx.ox.ac.uk\n",
    "\n",
    "# An example of calling this function\n",
    "#getcurvefitting(Z_distance,eva_dictionary,total file number)\n",
    "\n",
    "from copy import deepcopy\n",
    "def removeoutliers(z7,e,totalfilenumber):\n",
    "    \n",
    "    import numpy             as np\n",
    "    from lmfit       import Model, Parameters, minimize, fit_report\n",
    "    from scipy       import integrate, special\n",
    "    import matplotlib.cm     as cm\n",
    "    import matplotlib.pyplot as plt\n",
    "    from cycler      import cycler\n",
    "    e_good=deepcopy(e)\n",
    "\n",
    "    k = 0\n",
    "    for i in range(totalfilenumber):\n",
    "        x=np.array(e[i][0])\n",
    "        ydata=np.array(e[i][1])\n",
    "        c7=sum(ydata)/50\n",
    "        def func(x, a, b):return  (a)*((b/(3.1415)**0.5)*np.exp(-((((-x+z7)/1e6)/b)**2))-((((-x+z7)/1e6))*special.erfc(((-x+z7)/1e6)/b)))-(a)*((b/(3.1415)**0.5)*np.exp(-(((((x)/1e6))/b)**2))-((((x)/1e6))*special.erfc(((x)/1e6)/b)))+c7\n",
    "\n",
    "        #lmfit function described above\n",
    "        gmodel = Model(func)\n",
    "        params = Parameters()\n",
    "        params.add('a', value=-184000, vary=True)#min=100000, max=300000)\n",
    "        params.add('b', value=0.004, vary=True, min=1e-6, max=1e-1)\n",
    "        result = gmodel.fit(ydata, params, x=x, weights=np.sqrt(1.0/ydata))\n",
    "        \n",
    "        #plot\n",
    "        plt.plot(x, result.best_fit, label = \"Fitted Curve\"+str(i))\n",
    "        plt.xlabel('Distance / um')\n",
    "        plt.ylabel('Concentration / $molkg^-3$')\n",
    "        plt.title('Hypothetical fit for removing outliers')\n",
    "        \n",
    "        #l2=list(range(0*4,totalfilenumber*4,4))\n",
    "        #plt.legend(l2,fontsize=5)\n",
    "        #plt.ylim([0.2,1.4])\n",
    "        plt.xlim([0,18000])\n",
    "\n",
    "        fake_a=result.params['a'].value\n",
    "        fake_b=result.params['b'].value\n",
    "\n",
    "        #fake_f=(x,fake_a,fake_b)\n",
    "\n",
    "        for j in range(0,50,1):\n",
    "            \n",
    "            if e[i][1][j]-func(e[i][0][j],fake_a,fake_b)> 0.16 or e[i][1][j]-func(e[i][0][j],fake_a,fake_b)<-0.16:\n",
    "                \n",
    "                e_good[i][1][j]=np.nan\n",
    "        \n",
    "    return e_good\n"
   ]
  }
 ],
 "metadata": {
  "kernelspec": {
   "display_name": "Python 3",
   "language": "python",
   "name": "python3"
  },
  "language_info": {
   "name": "python",
   "version": "3.10.10"
  },
  "orig_nbformat": 4,
  "vscode": {
   "interpreter": {
    "hash": "486e0d5a79acdbfffd563ee7a67a93a5017bd2a4f66495483a69f0245c8a4a6c"
   }
  }
 },
 "nbformat": 4,
 "nbformat_minor": 2
}
